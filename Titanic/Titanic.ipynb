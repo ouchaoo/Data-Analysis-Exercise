{
 "cells": [
  {
   "cell_type": "code",
   "execution_count": 1,
   "metadata": {},
   "outputs": [],
   "source": [
    "import pandas as pd\n",
    "import numpy as np\n",
    "import matplotlib.pyplot as plt\n",
    "import seaborn as sns\n",
    "%matplotlib inline"
   ]
  },
  {
   "cell_type": "markdown",
   "metadata": {},
   "source": [
    "## 导入数据"
   ]
  },
  {
   "cell_type": "code",
   "execution_count": 2,
   "metadata": {},
   "outputs": [],
   "source": [
    "train = pd.read_csv('train.csv')\n",
    "test = pd.read_csv('test.csv')"
   ]
  },
  {
   "cell_type": "markdown",
   "metadata": {},
   "source": [
    "## 数据清洗和转换"
   ]
  },
  {
   "cell_type": "code",
   "execution_count": 3,
   "metadata": {},
   "outputs": [],
   "source": [
    "train_data = train.drop(['Ticket'], axis=1)\n",
    "\n",
    "def transform_featrues(df):\n",
    "    #标记缺失数据\n",
    "    df.Age = df.Age.fillna(-0.5)\n",
    "    df.Cabin = df.Cabin.fillna('N')\n",
    "    df.Embarked = df.Embarked.fillna('N')\n",
    "    df.Fare = df.Fare.fillna(-0.5)\n",
    "    \n",
    "    #提取仓位的第一个字母\n",
    "    df.Cabin = df.Cabin.apply(lambda x: x[0]) \n",
    "    #拆分名字\n",
    "    if 'Name' in df.columns:\n",
    "        df['Lname'] = df.Name.apply(lambda x: x.split(' ')[0])\n",
    "        df['NamePrefix'] = df.Name.apply(lambda x: x.split(' ')[1])\n",
    "        df.drop(columns='Name', inplace=True)\n",
    "    #将年龄转换为整十的年龄段\n",
    "    df.Age = df.Age//10 * 10\n",
    "    return df\n",
    "\n",
    "train_data = transform_featrues(train_data)\n",
    "test = transform_featrues(test)"
   ]
  },
  {
   "cell_type": "markdown",
   "metadata": {},
   "source": [
    "## 数据基本情况"
   ]
  },
  {
   "cell_type": "markdown",
   "metadata": {},
   "source": [
    "* 可以看出，高等级船票的乘客，生还几率要高于低等级船票的乘客。所有女性的生还率都要高于男性，即便是3等船票的女性，生还率也高于1等船票的男性。\n",
    "* 当以年龄来划分时，依旧是女性的生还率更高，但是10到20岁的男孩生还几率明显高于其他年龄段的男性。\n",
    "* 可见在泰坦尼克号上，男性乘客们以生命为代价，把生存的机会留给了女性和孩子。让女人和孩子先走，得到了真正的执行。"
   ]
  },
  {
   "cell_type": "code",
   "execution_count": 4,
   "metadata": {},
   "outputs": [
    {
     "data": {
      "text/plain": [
       "<matplotlib.axes._subplots.AxesSubplot at 0x220a978d390>"
      ]
     },
     "execution_count": 4,
     "metadata": {},
     "output_type": "execute_result"
    },
    {
     "data": {
      "image/png": "[encoded data removed]",
      "text/plain": [
       "<matplotlib.figure.Figure at 0x220a5f931d0>"
      ]
     },
     "metadata": {},
     "output_type": "display_data"
    }
   ],
   "source": [
    "sns.pointplot(x='Pclass', y='Survived', hue='Sex', data=train,\n",
    "             palette={'male':'blue', 'female':'pink'},\n",
    "             markers=['*', 'o'], linestyles=['-', '--'])"
   ]
  },
  {
   "cell_type": "code",
   "execution_count": 5,
   "metadata": {},
   "outputs": [
    {
     "data": {
      "text/plain": [
       "<matplotlib.axes._subplots.AxesSubplot at 0x220a99c6e48>"
      ]
     },
     "execution_count": 5,
     "metadata": {},
     "output_type": "execute_result"
    },
    {
     "data": {
      "image/png": "[encoded data removed]",
      "text/plain": [
       "<matplotlib.figure.Figure at 0x220a9932f60>"
      ]
     },
     "metadata": {},
     "output_type": "display_data"
    }
   ],
   "source": [
    "sns.barplot(x=train_data.Age//10 * 10, y=\"Survived\", hue=\"Sex\", data=train_data)"
   ]
  },
  {
   "cell_type": "markdown",
   "metadata": {},
   "source": [
    "## 使用随机森林算法预测乘客的生还情况"
   ]
  },
  {
   "cell_type": "markdown",
   "metadata": {},
   "source": [
    "* 用随机森林来预测乘客的生还率，在交叉验证集上，预测正确率为0.81，在kaggle的测试集上正确率为0.73分。\n",
    "* 从模型输出的feature_importances可以看出，对于是否生还，影响最重要的是性别和票价（可以代表生活阶级）。"
   ]
  },
  {
   "cell_type": "code",
   "execution_count": 6,
   "metadata": {},
   "outputs": [],
   "source": [
    "from sklearn.ensemble import RandomForestClassifier\n",
    "from sklearn.metrics import accuracy_score\n",
    "from sklearn.model_selection import cross_val_score"
   ]
  },
  {
   "cell_type": "code",
   "execution_count": 7,
   "metadata": {},
   "outputs": [],
   "source": [
    "#标准化标签值（normalize labels）\n",
    "from sklearn import preprocessing\n",
    "\n",
    "features = ['Fare', 'Cabin', 'Age', 'Sex', 'Embarked', 'Lname', 'NamePrefix']\n",
    "df_combined = pd.concat([train_data[features], test[features]])\n",
    "for feature in features:\n",
    "    le = preprocessing.LabelEncoder()\n",
    "    le = le.fit(df_combined[feature])\n",
    "    train_data[feature] = le.transform(train_data[feature])\n",
    "    test[feature] = le.transform(test[feature])\n",
    "\n",
    "#分离特征值(feature)和标签（label)\n",
    "X_all = train_data.drop(['Survived', 'PassengerId'], axis=1)\n",
    "y_all = train_data['Survived']"
   ]
  },
  {
   "cell_type": "code",
   "execution_count": 8,
   "metadata": {},
   "outputs": [
    {
     "data": {
      "text/plain": [
       "0.8103254769921436"
      ]
     },
     "execution_count": 8,
     "metadata": {},
     "output_type": "execute_result"
    }
   ],
   "source": [
    "#使用随机森林算法预测乘客是否生还，用交叉验证来评估算法的表现\n",
    "rf = RandomForestClassifier()\n",
    "cross_val_score(rf, X_all, y_all, ).mean()"
   ]
  },
  {
   "cell_type": "code",
   "execution_count": 9,
   "metadata": {},
   "outputs": [
    {
     "data": {
      "text/html": [
       "<div>\n",
       "<style scoped>\n",
       "    .dataframe tbody tr th:only-of-type {\n",
       "        vertical-align: middle;\n",
       "    }\n",
       "\n",
       "    .dataframe tbody tr th {\n",
       "        vertical-align: top;\n",
       "    }\n",
       "\n",
       "    .dataframe thead th {\n",
       "        text-align: right;\n",
       "    }\n",
       "</style>\n",
       "<table border=\"1\" class=\"dataframe\">\n",
       "  <thead>\n",
       "    <tr style=\"text-align: right;\">\n",
       "      <th></th>\n",
       "      <th>feature</th>\n",
       "      <th>importance</th>\n",
       "    </tr>\n",
       "  </thead>\n",
       "  <tbody>\n",
       "    <tr>\n",
       "      <th>1</th>\n",
       "      <td>Sex</td>\n",
       "      <td>0.207877</td>\n",
       "    </tr>\n",
       "    <tr>\n",
       "      <th>5</th>\n",
       "      <td>Fare</td>\n",
       "      <td>0.187234</td>\n",
       "    </tr>\n",
       "    <tr>\n",
       "      <th>8</th>\n",
       "      <td>Lname</td>\n",
       "      <td>0.185477</td>\n",
       "    </tr>\n",
       "    <tr>\n",
       "      <th>9</th>\n",
       "      <td>NamePrefix</td>\n",
       "      <td>0.107332</td>\n",
       "    </tr>\n",
       "    <tr>\n",
       "      <th>2</th>\n",
       "      <td>Age</td>\n",
       "      <td>0.084858</td>\n",
       "    </tr>\n",
       "    <tr>\n",
       "      <th>0</th>\n",
       "      <td>Pclass</td>\n",
       "      <td>0.069682</td>\n",
       "    </tr>\n",
       "    <tr>\n",
       "      <th>6</th>\n",
       "      <td>Cabin</td>\n",
       "      <td>0.063762</td>\n",
       "    </tr>\n",
       "    <tr>\n",
       "      <th>3</th>\n",
       "      <td>SibSp</td>\n",
       "      <td>0.042126</td>\n",
       "    </tr>\n",
       "    <tr>\n",
       "      <th>7</th>\n",
       "      <td>Embarked</td>\n",
       "      <td>0.029971</td>\n",
       "    </tr>\n",
       "    <tr>\n",
       "      <th>4</th>\n",
       "      <td>Parch</td>\n",
       "      <td>0.021680</td>\n",
       "    </tr>\n",
       "  </tbody>\n",
       "</table>\n",
       "</div>"
      ],
      "text/plain": [
       "      feature  importance\n",
       "1         Sex    0.207877\n",
       "5        Fare    0.187234\n",
       "8       Lname    0.185477\n",
       "9  NamePrefix    0.107332\n",
       "2         Age    0.084858\n",
       "0      Pclass    0.069682\n",
       "6       Cabin    0.063762\n",
       "3       SibSp    0.042126\n",
       "7    Embarked    0.029971\n",
       "4       Parch    0.021680"
      ]
     },
     "execution_count": 9,
     "metadata": {},
     "output_type": "execute_result"
    }
   ],
   "source": [
    "#按在模型中的重要性排序所有特征\n",
    "rf.fit(X_all, y_all)\n",
    "importances = pd.DataFrame({'feature': X_all.columns, 'importance': rf.feature_importances_})\n",
    "importances.sort_values('importance', ascending=False)"
   ]
  },
  {
   "cell_type": "markdown",
   "metadata": {},
   "source": [
    "## 导出预测结果"
   ]
  },
  {
   "cell_type": "code",
   "execution_count": 10,
   "metadata": {},
   "outputs": [],
   "source": [
    "#导出预测结果，用于上传kaggle\n",
    "result = pd.DataFrame({'PassengerId': test.PassengerId,\n",
    "              'Survived': rf.predict(test[X_all.columns])})\n",
    "result.to_csv('result.csv',index=False)"
   ]
  }
 ],
 "metadata": {
  "kernelspec": {
   "display_name": "Python 3",
   "language": "python",
   "name": "python3"
  },
  "language_info": {
   "codemirror_mode": {
    "name": "ipython",
    "version": 3
   },
   "file_extension": ".py",
   "mimetype": "text/x-python",
   "name": "python",
   "nbconvert_exporter": "python",
   "pygments_lexer": "ipython3",
   "version": "3.6.4"
  },
  "toc": {
   "base_numbering": 1,
   "nav_menu": {},
   "number_sections": true,
   "sideBar": true,
   "skip_h1_title": false,
   "title_cell": "Table of Contents",
   "title_sidebar": "Contents",
   "toc_cell": false,
   "toc_position": {
    "height": "calc(100% - 180px)",
    "left": "10px",
    "top": "150px",
    "width": "286px"
   },
   "toc_section_display": true,
   "toc_window_display": true
  }
 },
 "nbformat": 4,
 "nbformat_minor": 2
}
