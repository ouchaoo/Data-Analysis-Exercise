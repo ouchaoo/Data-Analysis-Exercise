{
 "cells": [
  {
   "cell_type": "code",
   "execution_count": 1,
   "metadata": {},
   "outputs": [
    {
     "name": "stdout",
     "output_type": "stream",
     "text": [
      "Automatic pdb calling has been turned ON\n"
     ]
    },
    {
     "data": {
      "text/html": [
       "<script>jQuery(function() {if (jQuery(\"body.notebook_app\").length == 0)                 { jQuery(\".input_area\").toggle(); jQuery(\".prompt\").toggle();}});</script>"
      ]
     },
     "metadata": {},
     "output_type": "display_data"
    }
   ],
   "source": [
    "import pandas as pd\n",
    "from pandas import DataFrame, Series\n",
    "import matplotlib.pylab as plt\n",
    "from pylab import *\n",
    "mpl.rcParams['font.sans-serif'] = ['SimHei']\n",
    "%matplotlib inline\n",
    "%pdb\n",
    "\n",
    "#导出HTML时，不输出代码\n",
    "import IPython.core.display as di\n",
    "di.display_html('<script>jQuery(function() {if (jQuery(\"body.notebook_app\").length == 0) \\\n",
    "                { jQuery(\".input_area\").toggle(); jQuery(\".prompt\").toggle();}});</script>'\n",
    "                , raw=True)\n"
   ]
  },
  {
   "cell_type": "code",
   "execution_count": 2,
   "metadata": {
    "collapsed": true
   },
   "outputs": [],
   "source": [
    "crash = pd.read_csv('Airplane_Crashes_and_Fatalities_Since_1908.csv')\n",
    "\n",
    "crash = crash[['Date', 'Time', 'Location', 'Operator', 'Type', 'Aboard', 'Fatalities']]"
   ]
  },
  {
   "cell_type": "code",
   "execution_count": 3,
   "metadata": {},
   "outputs": [
    {
     "data": {
      "text/plain": [
       "Index([u'Date', u'Time', u'Location', u'Operator', u'Type', u'Aboard',\n",
       "       u'Fatalities'],\n",
       "      dtype='object')"
      ]
     },
     "execution_count": 3,
     "metadata": {},
     "output_type": "execute_result"
    }
   ],
   "source": [
    "crash.columns"
   ]
  },
  {
   "cell_type": "code",
   "execution_count": 4,
   "metadata": {},
   "outputs": [
    {
     "data": {
      "text/plain": [
       "\"\\n#\\xe5\\xa4\\x84\\xe7\\x90\\x86\\xe9\\x94\\x99\\xe8\\xaf\\xaf\\xe7\\x9a\\x84\\xe6\\x97\\xa5\\xe6\\x9c\\x9f\\n#\\xe6\\xa0\\x87\\xe8\\xae\\xb0\\xe9\\x94\\x99\\xe8\\xaf\\xaf\\xe7\\x9a\\x84\\xe6\\x97\\xa5\\xe6\\x9c\\x9f\\ndef t(a):\\n    try:\\n        return pd.to_datetime(a)\\n    except BaseException:\\n        return '**'\\n\\nwIndex = crash[(crash['Time']).apply(t) == '**'].index\\n\\naList = [1710, 1949, 3536, 4829]\\n\\nfor a in wIndex:\\n    if 'c' in  crash.loc[a, 'Time']:\\n        crash.loc[a, 'Time'] = crash.loc[a, 'Time'][-5:]\\n    elif a in aList:\\n        crash.loc[a, 'Time'] = crash.loc[a, 'Time'][:2] + ':' + crash.loc[a, 'Time'][-2:]\\n    else:\\n        crash.loc[a, 'Time'] = crash.loc[a, 'Time'][1:]\\n\\n#\\xe5\\xa4\\x84\\xe7\\x90\\x86\\xe7\\xbc\\xba\\xe5\\xa4\\xb1time\\ndef hand_na(a):\\n    if a == NaN:\\n        a = '00:00'\\n    return a\\n        \\n\\ncrash['Datetime'] = pd.to_datetime(crash['Date'] + ' ' + crash['Time'])\\n\\n#crash.drop(['Date', 'Time'], axis=1, inplace=True)\\n\""
      ]
     },
     "execution_count": 4,
     "metadata": {},
     "output_type": "execute_result"
    }
   ],
   "source": [
    "'''\n",
    "#处理错误的日期\n",
    "#标记错误的日期\n",
    "def t(a):\n",
    "    try:\n",
    "        return pd.to_datetime(a)\n",
    "    except BaseException:\n",
    "        return '**'\n",
    "\n",
    "wIndex = crash[(crash['Time']).apply(t) == '**'].index\n",
    "\n",
    "aList = [1710, 1949, 3536, 4829]\n",
    "\n",
    "for a in wIndex:\n",
    "    if 'c' in  crash.loc[a, 'Time']:\n",
    "        crash.loc[a, 'Time'] = crash.loc[a, 'Time'][-5:]\n",
    "    elif a in aList:\n",
    "        crash.loc[a, 'Time'] = crash.loc[a, 'Time'][:2] + ':' + crash.loc[a, 'Time'][-2:]\n",
    "    else:\n",
    "        crash.loc[a, 'Time'] = crash.loc[a, 'Time'][1:]\n",
    "\n",
    "#处理缺失time\n",
    "def hand_na(a):\n",
    "    if a == NaN:\n",
    "        a = '00:00'\n",
    "    return a\n",
    "        \n",
    "\n",
    "crash['Datetime'] = pd.to_datetime(crash['Date'] + ' ' + crash['Time'])\n",
    "\n",
    "#crash.drop(['Date', 'Time'], axis=1, inplace=True)\n",
    "'''"
   ]
  },
  {
   "cell_type": "code",
   "execution_count": 5,
   "metadata": {},
   "outputs": [
    {
     "name": "stderr",
     "output_type": "stream",
     "text": [
      "C:\\Work\\Anaconda2\\lib\\site-packages\\pandas\\core\\algorithms.py:399: UnicodeWarning: Unicode equal comparison failed to convert both arguments to Unicode - interpreting them as being unequal\n",
      "  f = lambda x, y: htable.ismember_object(x, values)\n"
     ]
    }
   ],
   "source": [
    "#提取Nation\n",
    "def get_loc(a):\n",
    "    if pd.isnull(a):\n",
    "        pass\n",
    "    else:\n",
    "        a = a.split(',')[-1].strip()\n",
    "    return a\n",
    "\n",
    "crash['Nation'] = crash['Location'].apply(get_loc)\n",
    "#将标为美国州的字段修改为USA\n",
    "state = pd.ExcelFile('state_list.xlsx')\n",
    "state = state.parse('Sheet1')\n",
    "stateList = state[state.columns[0]].iloc[2:]\n",
    "\n",
    "#将stateList格式标准化，确保第二个单词为大写开头\n",
    "def upper_first(a):\n",
    "    a = a.strip()\n",
    "    if ' ' in a:\n",
    "        last = a.split(' ')[-1]\n",
    "        last = last[0].upper() + last[1:]\n",
    "        a = a.split(' ')[0] + ' ' + last\n",
    "    return a\n",
    "\n",
    "stateList = stateList.apply(upper_first)\n",
    "\n",
    "crash.loc[crash['Nation'].isin(stateList), 'Nation'] = 'USA'"
   ]
  },
  {
   "cell_type": "markdown",
   "metadata": {},
   "source": [
    "## 时间维度"
   ]
  },
  {
   "cell_type": "markdown",
   "metadata": {},
   "source": [
    "### 中国空难"
   ]
  },
  {
   "cell_type": "markdown",
   "metadata": {},
   "source": [
    "* 我们先看一下中国的空难大致情况。可以发现中国空难数量在1940年代出现了巨幅的上升，而后又迅速下降。\n",
    "\n",
    "\n",
    "* 而这个时间正值二战争期间。这期间发生空难的机型主要是C-47和C-53两种，这两型飞机是二战中，中国使用的最主要的两种军用运输机。这说明1940年代剧增的空难数的确是战争造成的。\n",
    "\n",
    "\n",
    "* 在此期间共发生了41起空难，占到了中国的总空难数的48.4%。共有695人遇难，占到了总遇难人数的30.8%。"
   ]
  },
  {
   "cell_type": "code",
   "execution_count": 6,
   "metadata": {
    "collapsed": true
   },
   "outputs": [],
   "source": [
    "def t(a):\n",
    "    return 'China' in str(a)\n",
    "\n",
    "china_crash = crash[crash['Location'].apply(t)]\n",
    "#china_crash.groupby((china_crash['Datetime'].apply(get_year) - 1900) / 20)['Type'].count()"
   ]
  },
  {
   "cell_type": "code",
   "execution_count": 7,
   "metadata": {
    "scrolled": true
   },
   "outputs": [
    {
     "data": {
      "text/plain": [
       "<matplotlib.axes._subplots.AxesSubplot at 0xcb54d68>"
      ]
     },
     "execution_count": 7,
     "metadata": {},
     "output_type": "execute_result"
    },
    {
     "data": {
      "image/png": "[encoded data removed]",
      "text/plain": [
       "<matplotlib.figure.Figure at 0xcb58860>"
      ]
     },
     "metadata": {},
     "output_type": "display_data"
    }
   ],
   "source": [
    "c_y_list = china_crash['Date'].apply(lambda a : a[-4:]).astype(int) // 5 * 5\n",
    "china_crash.groupby(c_y_list)['Operator'].count().plot(kind='line')"
   ]
  },
  {
   "cell_type": "code",
   "execution_count": 8,
   "metadata": {
    "scrolled": true
   },
   "outputs": [
    {
     "name": "stdout",
     "output_type": "stream",
     "text": [
      "15 91\n",
      "0.164835164835\n",
      "69.0 2260.0\n",
      "0.0305309734513\n"
     ]
    }
   ],
   "source": [
    "print len(china_crash[c_y_list.isin([1940])]), len(china_crash)\n",
    "print len(china_crash[c_y_list.isin([1940])]) / (len(china_crash) + 0.0)\n",
    "\n",
    "print china_crash.loc[c_y_list.isin([1940]), 'Fatalities'].sum(), china_crash['Fatalities'].sum()\n",
    "print china_crash.loc[c_y_list.isin([1940]), 'Fatalities'].sum() / china_crash['Fatalities'].sum()"
   ]
  },
  {
   "cell_type": "code",
   "execution_count": 9,
   "metadata": {},
   "outputs": [
    {
     "data": {
      "text/plain": [
       "<matplotlib.axes._subplots.AxesSubplot at 0xcb5ef98>"
      ]
     },
     "execution_count": 9,
     "metadata": {},
     "output_type": "execute_result"
    },
    {
     "data": {
      "image/png": "[encoded data removed]",
      "text/plain": [
       "<matplotlib.figure.Figure at 0xce59668>"
      ]
     },
     "metadata": {},
     "output_type": "display_data"
    }
   ],
   "source": [
    "china_crash.groupby(c_y_list)['Operator'].count().plot(kind='pie')"
   ]
  },
  {
   "cell_type": "markdown",
   "metadata": {},
   "source": [
    "### 世界空难"
   ]
  },
  {
   "cell_type": "markdown",
   "metadata": {},
   "source": [
    "* 从全球范围来看，空难数量是一直呈增加趋势的，在70年代达到顶点，之后总体呈下降趋势。\n",
    "\n",
    "\n",
    "* 在40年代中期，60年代末和80年代末都出现了空难的高峰。"
   ]
  },
  {
   "cell_type": "code",
   "execution_count": 10,
   "metadata": {},
   "outputs": [
    {
     "data": {
      "text/plain": [
       "<matplotlib.axes._subplots.AxesSubplot at 0x66355c0>"
      ]
     },
     "execution_count": 10,
     "metadata": {},
     "output_type": "execute_result"
    },
    {
     "data": {
      "image/png": "[encoded data removed]",
      "text/plain": [
       "<matplotlib.figure.Figure at 0xcba9e80>"
      ]
     },
     "metadata": {},
     "output_type": "display_data"
    }
   ],
   "source": [
    "crash.groupby(crash['Date'].apply(lambda a : a[-4:])\n",
    "              .astype(int) // 5*5)['Operator'].count().plot(kind='line')"
   ]
  },
  {
   "cell_type": "markdown",
   "metadata": {},
   "source": [
    "## 空间维度"
   ]
  },
  {
   "cell_type": "markdown",
   "metadata": {},
   "source": [
    "### 美国空难"
   ]
  },
  {
   "cell_type": "markdown",
   "metadata": {},
   "source": [
    "* 从发生空难的国家来看，在美国发生的空难数远超其他国家。占到了全球总空难数的25.9%。\n",
    "\n",
    "\n",
    "* 但是全球的航空运输飞机总量大约为[23600架](www.telegraph.co.uk/travel/travel-truths/how-many-planes-are-there-in-the-world/)，而美国在2014年共有航空运输飞机[6676架](https://www.rita.dot.gov/bts/sites/rita.dot.gov.bts/files/publications/national_transportation_statistics/html/table_01_03.html)，美国约占全球的28.3%。这么来看，美国如此多的空难数也就是不足为奇了。\n",
    "\n"
   ]
  },
  {
   "cell_type": "code",
   "execution_count": 11,
   "metadata": {
    "collapsed": true
   },
   "outputs": [],
   "source": [
    "USA_crash = crash[crash['Nation'] == 'USA']"
   ]
  },
  {
   "cell_type": "code",
   "execution_count": 12,
   "metadata": {},
   "outputs": [
    {
     "data": {
      "text/plain": [
       "<matplotlib.axes._subplots.AxesSubplot at 0xd8d2da0>"
      ]
     },
     "execution_count": 12,
     "metadata": {},
     "output_type": "execute_result"
    },
    {
     "data": {
      "image/png": "[encoded data removed]",
      "text/plain": [
       "<matplotlib.figure.Figure at 0xd8ff048>"
      ]
     },
     "metadata": {},
     "output_type": "display_data"
    }
   ],
   "source": [
    "crash.groupby('Nation')['Operator'].count().sort_values(ascending=False)[:20].plot(kind='bar')"
   ]
  },
  {
   "cell_type": "markdown",
   "metadata": {},
   "source": [
    "* 美国的空难数量多，但是因此死亡的人数并不多。一共有15550人因空难死亡，只占全球空难死亡总人数的14.7%。\n",
    "\n",
    "\n",
    "* 在美国乘坐飞机，如果发生空难，死亡率是63.6%，比全球平均数73.0%低了十个百分点。\n",
    "\n",
    " \n",
    "* 在美国发生空难的飞机中，平均载员数为17.9，而在全球范围内这个数字是27.4，美国比全球平均数要低34.7%。\n",
    "\n",
    "\n",
    "* 发生空难后死亡率低和飞机载员数少这两个原因共同导致，美国虽然空难数多，但是相对来说死亡人数并不多。"
   ]
  },
  {
   "cell_type": "code",
   "execution_count": 13,
   "metadata": {},
   "outputs": [
    {
     "name": "stdout",
     "output_type": "stream",
     "text": [
      "0.259111617312\n",
      "15550.0\n",
      "0.147422709734\n",
      "空难死亡率\n",
      "全球 0.729700936002\n",
      "美国 0.635965809169\n"
     ]
    }
   ],
   "source": [
    "print float(len(USA_crash)) / len(crash)\n",
    "print USA_crash['Fatalities'].sum()\n",
    "print USA_crash['Fatalities'].sum() / crash['Fatalities'].sum()\n",
    "\n",
    "print '空难死亡率'\n",
    "print '全球', crash['Fatalities'].sum() / crash['Aboard'].sum()\n",
    "print '美国', USA_crash['Fatalities'].sum() / USA_crash['Aboard'].sum()"
   ]
  },
  {
   "cell_type": "code",
   "execution_count": 14,
   "metadata": {},
   "outputs": [
    {
     "name": "stdout",
     "output_type": "stream",
     "text": [
      "17.9128205128\n",
      "27.4394457099\n"
     ]
    }
   ],
   "source": [
    "print USA_crash['Aboard'].sum() / len(USA_crash)\n",
    "print crash['Aboard'].sum() / len(crash)"
   ]
  },
  {
   "cell_type": "markdown",
   "metadata": {},
   "source": [
    "本来是试图分析空难死亡率的排名，但排名低的国家空难数也低，暂时无法找到有效且可信的剔除标准，故放弃此指标。"
   ]
  },
  {
   "cell_type": "code",
   "execution_count": 15,
   "metadata": {
    "collapsed": true,
    "scrolled": true
   },
   "outputs": [],
   "source": [
    "n_crash = crash.groupby('Nation')"
   ]
  },
  {
   "cell_type": "code",
   "execution_count": 16,
   "metadata": {
    "collapsed": true
   },
   "outputs": [],
   "source": [
    "a = n_crash[['Aboard', 'Fatalities']].sum()"
   ]
  },
  {
   "cell_type": "code",
   "execution_count": 17,
   "metadata": {
    "collapsed": true,
    "scrolled": true
   },
   "outputs": [],
   "source": [
    "b = n_crash['Operator'].count()"
   ]
  },
  {
   "cell_type": "code",
   "execution_count": 18,
   "metadata": {
    "collapsed": true
   },
   "outputs": [],
   "source": [
    "n_crash = pd.merge(a, DataFrame(b), left_index=True, right_index=True)"
   ]
  },
  {
   "cell_type": "code",
   "execution_count": 19,
   "metadata": {
    "collapsed": true
   },
   "outputs": [],
   "source": [
    "n_crash['rate'] = n_crash['Fatalities'] / n_crash['Aboard']"
   ]
  },
  {
   "cell_type": "code",
   "execution_count": 20,
   "metadata": {
    "scrolled": true
   },
   "outputs": [
    {
     "data": {
      "text/html": [
       "<div>\n",
       "<style>\n",
       "    .dataframe thead tr:only-child th {\n",
       "        text-align: right;\n",
       "    }\n",
       "\n",
       "    .dataframe thead th {\n",
       "        text-align: left;\n",
       "    }\n",
       "\n",
       "    .dataframe tbody tr th {\n",
       "        vertical-align: top;\n",
       "    }\n",
       "</style>\n",
       "<table border=\"1\" class=\"dataframe\">\n",
       "  <thead>\n",
       "    <tr style=\"text-align: right;\">\n",
       "      <th></th>\n",
       "      <th>Aboard</th>\n",
       "      <th>Fatalities</th>\n",
       "      <th>Operator</th>\n",
       "      <th>rate</th>\n",
       "    </tr>\n",
       "    <tr>\n",
       "      <th>Nation</th>\n",
       "      <th></th>\n",
       "      <th></th>\n",
       "      <th></th>\n",
       "      <th></th>\n",
       "    </tr>\n",
       "  </thead>\n",
       "  <tbody>\n",
       "    <tr>\n",
       "      <th>Netherlands</th>\n",
       "      <td>307.0</td>\n",
       "      <td>106.0</td>\n",
       "      <td>12</td>\n",
       "      <td>0.345277</td>\n",
       "    </tr>\n",
       "    <tr>\n",
       "      <th>Sweden</th>\n",
       "      <td>283.0</td>\n",
       "      <td>117.0</td>\n",
       "      <td>11</td>\n",
       "      <td>0.413428</td>\n",
       "    </tr>\n",
       "    <tr>\n",
       "      <th>South Korea</th>\n",
       "      <td>1240.0</td>\n",
       "      <td>518.0</td>\n",
       "      <td>17</td>\n",
       "      <td>0.417742</td>\n",
       "    </tr>\n",
       "    <tr>\n",
       "      <th>Massachusett</th>\n",
       "      <td>434.0</td>\n",
       "      <td>192.0</td>\n",
       "      <td>6</td>\n",
       "      <td>0.442396</td>\n",
       "    </tr>\n",
       "    <tr>\n",
       "      <th>Guatemala</th>\n",
       "      <td>636.0</td>\n",
       "      <td>283.0</td>\n",
       "      <td>17</td>\n",
       "      <td>0.444969</td>\n",
       "    </tr>\n",
       "    <tr>\n",
       "      <th>Jordan</th>\n",
       "      <td>260.0</td>\n",
       "      <td>120.0</td>\n",
       "      <td>7</td>\n",
       "      <td>0.461538</td>\n",
       "    </tr>\n",
       "    <tr>\n",
       "      <th>Philippines</th>\n",
       "      <td>2569.0</td>\n",
       "      <td>1266.0</td>\n",
       "      <td>68</td>\n",
       "      <td>0.492799</td>\n",
       "    </tr>\n",
       "    <tr>\n",
       "      <th>Hong Kong</th>\n",
       "      <td>353.0</td>\n",
       "      <td>196.0</td>\n",
       "      <td>9</td>\n",
       "      <td>0.555241</td>\n",
       "    </tr>\n",
       "    <tr>\n",
       "      <th>Ethiopia</th>\n",
       "      <td>527.0</td>\n",
       "      <td>301.0</td>\n",
       "      <td>17</td>\n",
       "      <td>0.571157</td>\n",
       "    </tr>\n",
       "    <tr>\n",
       "      <th>Honduras</th>\n",
       "      <td>556.0</td>\n",
       "      <td>328.0</td>\n",
       "      <td>17</td>\n",
       "      <td>0.589928</td>\n",
       "    </tr>\n",
       "    <tr>\n",
       "      <th>Pakistan</th>\n",
       "      <td>1113.0</td>\n",
       "      <td>667.0</td>\n",
       "      <td>30</td>\n",
       "      <td>0.599281</td>\n",
       "    </tr>\n",
       "    <tr>\n",
       "      <th>Greece</th>\n",
       "      <td>1343.0</td>\n",
       "      <td>805.0</td>\n",
       "      <td>26</td>\n",
       "      <td>0.599404</td>\n",
       "    </tr>\n",
       "    <tr>\n",
       "      <th>Algeria</th>\n",
       "      <td>733.0</td>\n",
       "      <td>443.0</td>\n",
       "      <td>19</td>\n",
       "      <td>0.604366</td>\n",
       "    </tr>\n",
       "    <tr>\n",
       "      <th>Libya</th>\n",
       "      <td>709.0</td>\n",
       "      <td>434.0</td>\n",
       "      <td>14</td>\n",
       "      <td>0.612130</td>\n",
       "    </tr>\n",
       "    <tr>\n",
       "      <th>Lebanon</th>\n",
       "      <td>301.0</td>\n",
       "      <td>186.0</td>\n",
       "      <td>7</td>\n",
       "      <td>0.617940</td>\n",
       "    </tr>\n",
       "    <tr>\n",
       "      <th>Portugal</th>\n",
       "      <td>956.0</td>\n",
       "      <td>603.0</td>\n",
       "      <td>13</td>\n",
       "      <td>0.630753</td>\n",
       "    </tr>\n",
       "    <tr>\n",
       "      <th>USA</th>\n",
       "      <td>24451.0</td>\n",
       "      <td>15550.0</td>\n",
       "      <td>1362</td>\n",
       "      <td>0.635966</td>\n",
       "    </tr>\n",
       "    <tr>\n",
       "      <th>England</th>\n",
       "      <td>2436.0</td>\n",
       "      <td>1584.0</td>\n",
       "      <td>105</td>\n",
       "      <td>0.650246</td>\n",
       "    </tr>\n",
       "    <tr>\n",
       "      <th>Indonesia</th>\n",
       "      <td>3114.0</td>\n",
       "      <td>2050.0</td>\n",
       "      <td>87</td>\n",
       "      <td>0.658317</td>\n",
       "    </tr>\n",
       "    <tr>\n",
       "      <th>China</th>\n",
       "      <td>3326.0</td>\n",
       "      <td>2198.0</td>\n",
       "      <td>86</td>\n",
       "      <td>0.660854</td>\n",
       "    </tr>\n",
       "    <tr>\n",
       "      <th>Japan</th>\n",
       "      <td>3095.0</td>\n",
       "      <td>2050.0</td>\n",
       "      <td>45</td>\n",
       "      <td>0.662359</td>\n",
       "    </tr>\n",
       "    <tr>\n",
       "      <th>Sudan</th>\n",
       "      <td>938.0</td>\n",
       "      <td>629.0</td>\n",
       "      <td>30</td>\n",
       "      <td>0.670576</td>\n",
       "    </tr>\n",
       "    <tr>\n",
       "      <th>Canada</th>\n",
       "      <td>2778.0</td>\n",
       "      <td>1867.0</td>\n",
       "      <td>148</td>\n",
       "      <td>0.672066</td>\n",
       "    </tr>\n",
       "    <tr>\n",
       "      <th>Kenya</th>\n",
       "      <td>416.0</td>\n",
       "      <td>280.0</td>\n",
       "      <td>22</td>\n",
       "      <td>0.673077</td>\n",
       "    </tr>\n",
       "    <tr>\n",
       "      <th>Cameroon</th>\n",
       "      <td>578.0</td>\n",
       "      <td>391.0</td>\n",
       "      <td>12</td>\n",
       "      <td>0.676471</td>\n",
       "    </tr>\n",
       "    <tr>\n",
       "      <th>Congo</th>\n",
       "      <td>631.0</td>\n",
       "      <td>427.0</td>\n",
       "      <td>18</td>\n",
       "      <td>0.676704</td>\n",
       "    </tr>\n",
       "    <tr>\n",
       "      <th>Senegal</th>\n",
       "      <td>211.0</td>\n",
       "      <td>145.0</td>\n",
       "      <td>7</td>\n",
       "      <td>0.687204</td>\n",
       "    </tr>\n",
       "    <tr>\n",
       "      <th>Switzerland</th>\n",
       "      <td>840.0</td>\n",
       "      <td>584.0</td>\n",
       "      <td>23</td>\n",
       "      <td>0.695238</td>\n",
       "    </tr>\n",
       "    <tr>\n",
       "      <th>Bulgaria</th>\n",
       "      <td>475.0</td>\n",
       "      <td>334.0</td>\n",
       "      <td>10</td>\n",
       "      <td>0.703158</td>\n",
       "    </tr>\n",
       "    <tr>\n",
       "      <th>DemocratiRepubliCongo</th>\n",
       "      <td>149.0</td>\n",
       "      <td>105.0</td>\n",
       "      <td>17</td>\n",
       "      <td>0.704698</td>\n",
       "    </tr>\n",
       "    <tr>\n",
       "      <th>...</th>\n",
       "      <td>...</td>\n",
       "      <td>...</td>\n",
       "      <td>...</td>\n",
       "      <td>...</td>\n",
       "    </tr>\n",
       "    <tr>\n",
       "      <th>Iraq</th>\n",
       "      <td>173.0</td>\n",
       "      <td>145.0</td>\n",
       "      <td>10</td>\n",
       "      <td>0.838150</td>\n",
       "    </tr>\n",
       "    <tr>\n",
       "      <th>Thailand</th>\n",
       "      <td>1008.0</td>\n",
       "      <td>850.0</td>\n",
       "      <td>23</td>\n",
       "      <td>0.843254</td>\n",
       "    </tr>\n",
       "    <tr>\n",
       "      <th>New Guinea</th>\n",
       "      <td>333.0</td>\n",
       "      <td>282.0</td>\n",
       "      <td>22</td>\n",
       "      <td>0.846847</td>\n",
       "    </tr>\n",
       "    <tr>\n",
       "      <th>Laos</th>\n",
       "      <td>508.0</td>\n",
       "      <td>431.0</td>\n",
       "      <td>26</td>\n",
       "      <td>0.848425</td>\n",
       "    </tr>\n",
       "    <tr>\n",
       "      <th>Romania</th>\n",
       "      <td>396.0</td>\n",
       "      <td>336.0</td>\n",
       "      <td>21</td>\n",
       "      <td>0.848485</td>\n",
       "    </tr>\n",
       "    <tr>\n",
       "      <th>Ecuador</th>\n",
       "      <td>969.0</td>\n",
       "      <td>824.0</td>\n",
       "      <td>34</td>\n",
       "      <td>0.850361</td>\n",
       "    </tr>\n",
       "    <tr>\n",
       "      <th>Zaire</th>\n",
       "      <td>319.0</td>\n",
       "      <td>272.0</td>\n",
       "      <td>12</td>\n",
       "      <td>0.852665</td>\n",
       "    </tr>\n",
       "    <tr>\n",
       "      <th>USSR</th>\n",
       "      <td>3296.0</td>\n",
       "      <td>2831.0</td>\n",
       "      <td>61</td>\n",
       "      <td>0.858920</td>\n",
       "    </tr>\n",
       "    <tr>\n",
       "      <th>Denmark</th>\n",
       "      <td>234.0</td>\n",
       "      <td>202.0</td>\n",
       "      <td>9</td>\n",
       "      <td>0.863248</td>\n",
       "    </tr>\n",
       "    <tr>\n",
       "      <th>Australia</th>\n",
       "      <td>757.0</td>\n",
       "      <td>661.0</td>\n",
       "      <td>78</td>\n",
       "      <td>0.873184</td>\n",
       "    </tr>\n",
       "    <tr>\n",
       "      <th>Turkey</th>\n",
       "      <td>1059.0</td>\n",
       "      <td>929.0</td>\n",
       "      <td>31</td>\n",
       "      <td>0.877243</td>\n",
       "    </tr>\n",
       "    <tr>\n",
       "      <th>South Vietnam</th>\n",
       "      <td>1431.0</td>\n",
       "      <td>1266.0</td>\n",
       "      <td>38</td>\n",
       "      <td>0.884696</td>\n",
       "    </tr>\n",
       "    <tr>\n",
       "      <th>Venezuela</th>\n",
       "      <td>1346.0</td>\n",
       "      <td>1191.0</td>\n",
       "      <td>58</td>\n",
       "      <td>0.884844</td>\n",
       "    </tr>\n",
       "    <tr>\n",
       "      <th>United Arab Emirates</th>\n",
       "      <td>284.0</td>\n",
       "      <td>256.0</td>\n",
       "      <td>6</td>\n",
       "      <td>0.901408</td>\n",
       "    </tr>\n",
       "    <tr>\n",
       "      <th>Colombia</th>\n",
       "      <td>3263.0</td>\n",
       "      <td>2942.0</td>\n",
       "      <td>149</td>\n",
       "      <td>0.901624</td>\n",
       "    </tr>\n",
       "    <tr>\n",
       "      <th>Belgium</th>\n",
       "      <td>323.0</td>\n",
       "      <td>293.0</td>\n",
       "      <td>17</td>\n",
       "      <td>0.907121</td>\n",
       "    </tr>\n",
       "    <tr>\n",
       "      <th>Egypt</th>\n",
       "      <td>1121.0</td>\n",
       "      <td>1021.0</td>\n",
       "      <td>38</td>\n",
       "      <td>0.910794</td>\n",
       "    </tr>\n",
       "    <tr>\n",
       "      <th>Nepal</th>\n",
       "      <td>665.0</td>\n",
       "      <td>606.0</td>\n",
       "      <td>26</td>\n",
       "      <td>0.911278</td>\n",
       "    </tr>\n",
       "    <tr>\n",
       "      <th>Nicaragua</th>\n",
       "      <td>352.0</td>\n",
       "      <td>324.0</td>\n",
       "      <td>13</td>\n",
       "      <td>0.920455</td>\n",
       "    </tr>\n",
       "    <tr>\n",
       "      <th>Bolivia</th>\n",
       "      <td>693.0</td>\n",
       "      <td>638.0</td>\n",
       "      <td>46</td>\n",
       "      <td>0.920635</td>\n",
       "    </tr>\n",
       "    <tr>\n",
       "      <th>Morocco</th>\n",
       "      <td>781.0</td>\n",
       "      <td>721.0</td>\n",
       "      <td>24</td>\n",
       "      <td>0.923175</td>\n",
       "    </tr>\n",
       "    <tr>\n",
       "      <th>Mongolia</th>\n",
       "      <td>175.0</td>\n",
       "      <td>162.0</td>\n",
       "      <td>6</td>\n",
       "      <td>0.925714</td>\n",
       "    </tr>\n",
       "    <tr>\n",
       "      <th>Yugoslavia</th>\n",
       "      <td>534.0</td>\n",
       "      <td>508.0</td>\n",
       "      <td>14</td>\n",
       "      <td>0.951311</td>\n",
       "    </tr>\n",
       "    <tr>\n",
       "      <th>AtlantiOcean</th>\n",
       "      <td>153.0</td>\n",
       "      <td>146.0</td>\n",
       "      <td>13</td>\n",
       "      <td>0.954248</td>\n",
       "    </tr>\n",
       "    <tr>\n",
       "      <th>West Germany</th>\n",
       "      <td>256.0</td>\n",
       "      <td>247.0</td>\n",
       "      <td>8</td>\n",
       "      <td>0.964844</td>\n",
       "    </tr>\n",
       "    <tr>\n",
       "      <th>Panama</th>\n",
       "      <td>276.0</td>\n",
       "      <td>267.0</td>\n",
       "      <td>15</td>\n",
       "      <td>0.967391</td>\n",
       "    </tr>\n",
       "    <tr>\n",
       "      <th>Burma</th>\n",
       "      <td>285.0</td>\n",
       "      <td>276.0</td>\n",
       "      <td>11</td>\n",
       "      <td>0.968421</td>\n",
       "    </tr>\n",
       "    <tr>\n",
       "      <th>Scotland</th>\n",
       "      <td>587.0</td>\n",
       "      <td>573.0</td>\n",
       "      <td>17</td>\n",
       "      <td>0.976150</td>\n",
       "    </tr>\n",
       "    <tr>\n",
       "      <th>Ukraine</th>\n",
       "      <td>266.0</td>\n",
       "      <td>263.0</td>\n",
       "      <td>7</td>\n",
       "      <td>0.988722</td>\n",
       "    </tr>\n",
       "    <tr>\n",
       "      <th>North Sea</th>\n",
       "      <td>112.0</td>\n",
       "      <td>111.0</td>\n",
       "      <td>8</td>\n",
       "      <td>0.991071</td>\n",
       "    </tr>\n",
       "  </tbody>\n",
       "</table>\n",
       "<p>97 rows × 4 columns</p>\n",
       "</div>"
      ],
      "text/plain": [
       "                        Aboard  Fatalities  Operator      rate\n",
       "Nation                                                        \n",
       "Netherlands              307.0       106.0        12  0.345277\n",
       "Sweden                   283.0       117.0        11  0.413428\n",
       "South Korea             1240.0       518.0        17  0.417742\n",
       "Massachusett             434.0       192.0         6  0.442396\n",
       "Guatemala                636.0       283.0        17  0.444969\n",
       "Jordan                   260.0       120.0         7  0.461538\n",
       "Philippines             2569.0      1266.0        68  0.492799\n",
       "Hong Kong                353.0       196.0         9  0.555241\n",
       "Ethiopia                 527.0       301.0        17  0.571157\n",
       "Honduras                 556.0       328.0        17  0.589928\n",
       "Pakistan                1113.0       667.0        30  0.599281\n",
       "Greece                  1343.0       805.0        26  0.599404\n",
       "Algeria                  733.0       443.0        19  0.604366\n",
       "Libya                    709.0       434.0        14  0.612130\n",
       "Lebanon                  301.0       186.0         7  0.617940\n",
       "Portugal                 956.0       603.0        13  0.630753\n",
       "USA                    24451.0     15550.0      1362  0.635966\n",
       "England                 2436.0      1584.0       105  0.650246\n",
       "Indonesia               3114.0      2050.0        87  0.658317\n",
       "China                   3326.0      2198.0        86  0.660854\n",
       "Japan                   3095.0      2050.0        45  0.662359\n",
       "Sudan                    938.0       629.0        30  0.670576\n",
       "Canada                  2778.0      1867.0       148  0.672066\n",
       "Kenya                    416.0       280.0        22  0.673077\n",
       "Cameroon                 578.0       391.0        12  0.676471\n",
       "Congo                    631.0       427.0        18  0.676704\n",
       "Senegal                  211.0       145.0         7  0.687204\n",
       "Switzerland              840.0       584.0        23  0.695238\n",
       "Bulgaria                 475.0       334.0        10  0.703158\n",
       "DemocratiRepubliCongo    149.0       105.0        17  0.704698\n",
       "...                        ...         ...       ...       ...\n",
       "Iraq                     173.0       145.0        10  0.838150\n",
       "Thailand                1008.0       850.0        23  0.843254\n",
       "New Guinea               333.0       282.0        22  0.846847\n",
       "Laos                     508.0       431.0        26  0.848425\n",
       "Romania                  396.0       336.0        21  0.848485\n",
       "Ecuador                  969.0       824.0        34  0.850361\n",
       "Zaire                    319.0       272.0        12  0.852665\n",
       "USSR                    3296.0      2831.0        61  0.858920\n",
       "Denmark                  234.0       202.0         9  0.863248\n",
       "Australia                757.0       661.0        78  0.873184\n",
       "Turkey                  1059.0       929.0        31  0.877243\n",
       "South Vietnam           1431.0      1266.0        38  0.884696\n",
       "Venezuela               1346.0      1191.0        58  0.884844\n",
       "United Arab Emirates     284.0       256.0         6  0.901408\n",
       "Colombia                3263.0      2942.0       149  0.901624\n",
       "Belgium                  323.0       293.0        17  0.907121\n",
       "Egypt                   1121.0      1021.0        38  0.910794\n",
       "Nepal                    665.0       606.0        26  0.911278\n",
       "Nicaragua                352.0       324.0        13  0.920455\n",
       "Bolivia                  693.0       638.0        46  0.920635\n",
       "Morocco                  781.0       721.0        24  0.923175\n",
       "Mongolia                 175.0       162.0         6  0.925714\n",
       "Yugoslavia               534.0       508.0        14  0.951311\n",
       "AtlantiOcean             153.0       146.0        13  0.954248\n",
       "West Germany             256.0       247.0         8  0.964844\n",
       "Panama                   276.0       267.0        15  0.967391\n",
       "Burma                    285.0       276.0        11  0.968421\n",
       "Scotland                 587.0       573.0        17  0.976150\n",
       "Ukraine                  266.0       263.0         7  0.988722\n",
       "North Sea                112.0       111.0         8  0.991071\n",
       "\n",
       "[97 rows x 4 columns]"
      ]
     },
     "execution_count": 20,
     "metadata": {},
     "output_type": "execute_result"
    }
   ],
   "source": [
    "n_crash[(n_crash['Operator'] > 5) & (n_crash['Fatalities'] > 100) ].sort_values('rate')"
   ]
  },
  {
   "cell_type": "markdown",
   "metadata": {},
   "source": [
    "## 归属分析"
   ]
  },
  {
   "cell_type": "code",
   "execution_count": 21,
   "metadata": {
    "collapsed": true,
    "scrolled": true
   },
   "outputs": [],
   "source": [
    "#crash.groupby('Operator')['Aboard', 'Fatalities'].sum()\n",
    "a = crash.groupby('Operator')['Operator'].count()\n",
    "b = crash.groupby('Operator')[['Aboard', 'Fatalities']].sum()\n",
    "o_crash = pd.merge(DataFrame(a), b, left_index=True, right_index=True)"
   ]
  },
  {
   "cell_type": "code",
   "execution_count": 22,
   "metadata": {
    "collapsed": true
   },
   "outputs": [],
   "source": [
    "o_crash['rate'] = o_crash['Fatalities'] / o_crash['Aboard']"
   ]
  },
  {
   "cell_type": "code",
   "execution_count": 23,
   "metadata": {},
   "outputs": [
    {
     "data": {
      "text/html": [
       "<div>\n",
       "<style>\n",
       "    .dataframe thead tr:only-child th {\n",
       "        text-align: right;\n",
       "    }\n",
       "\n",
       "    .dataframe thead th {\n",
       "        text-align: left;\n",
       "    }\n",
       "\n",
       "    .dataframe tbody tr th {\n",
       "        vertical-align: top;\n",
       "    }\n",
       "</style>\n",
       "<table border=\"1\" class=\"dataframe\">\n",
       "  <thead>\n",
       "    <tr style=\"text-align: right;\">\n",
       "      <th></th>\n",
       "      <th>Operator</th>\n",
       "      <th>Aboard</th>\n",
       "      <th>Fatalities</th>\n",
       "      <th>rate</th>\n",
       "    </tr>\n",
       "    <tr>\n",
       "      <th>Operator</th>\n",
       "      <th></th>\n",
       "      <th></th>\n",
       "      <th></th>\n",
       "      <th></th>\n",
       "    </tr>\n",
       "  </thead>\n",
       "  <tbody>\n",
       "    <tr>\n",
       "      <th>Aeroflot</th>\n",
       "      <td>179</td>\n",
       "      <td>8870.0</td>\n",
       "      <td>7156.0</td>\n",
       "      <td>0.806764</td>\n",
       "    </tr>\n",
       "    <tr>\n",
       "      <th>Military - U.S. Air Force</th>\n",
       "      <td>176</td>\n",
       "      <td>4502.0</td>\n",
       "      <td>3717.0</td>\n",
       "      <td>0.825633</td>\n",
       "    </tr>\n",
       "    <tr>\n",
       "      <th>Air France</th>\n",
       "      <td>70</td>\n",
       "      <td>2874.0</td>\n",
       "      <td>1734.0</td>\n",
       "      <td>0.603340</td>\n",
       "    </tr>\n",
       "    <tr>\n",
       "      <th>Deutsche Lufthansa</th>\n",
       "      <td>65</td>\n",
       "      <td>510.0</td>\n",
       "      <td>396.0</td>\n",
       "      <td>0.776471</td>\n",
       "    </tr>\n",
       "    <tr>\n",
       "      <th>United Air Lines</th>\n",
       "      <td>44</td>\n",
       "      <td>2460.0</td>\n",
       "      <td>1021.0</td>\n",
       "      <td>0.415041</td>\n",
       "    </tr>\n",
       "    <tr>\n",
       "      <th>Air Taxi</th>\n",
       "      <td>44</td>\n",
       "      <td>176.0</td>\n",
       "      <td>161.0</td>\n",
       "      <td>0.914773</td>\n",
       "    </tr>\n",
       "    <tr>\n",
       "      <th>China National Aviation Corporation</th>\n",
       "      <td>44</td>\n",
       "      <td>374.0</td>\n",
       "      <td>409.0</td>\n",
       "      <td>1.093583</td>\n",
       "    </tr>\n",
       "    <tr>\n",
       "      <th>Military - U.S. Army Air Forces</th>\n",
       "      <td>43</td>\n",
       "      <td>1100.0</td>\n",
       "      <td>1070.0</td>\n",
       "      <td>0.972727</td>\n",
       "    </tr>\n",
       "    <tr>\n",
       "      <th>Pan American World Airways</th>\n",
       "      <td>41</td>\n",
       "      <td>2812.0</td>\n",
       "      <td>1302.0</td>\n",
       "      <td>0.463016</td>\n",
       "    </tr>\n",
       "    <tr>\n",
       "      <th>Military - U.S. Navy</th>\n",
       "      <td>36</td>\n",
       "      <td>851.0</td>\n",
       "      <td>767.0</td>\n",
       "      <td>0.901293</td>\n",
       "    </tr>\n",
       "  </tbody>\n",
       "</table>\n",
       "</div>"
      ],
      "text/plain": [
       "                                     Operator  Aboard  Fatalities      rate\n",
       "Operator                                                                   \n",
       "Aeroflot                                  179  8870.0      7156.0  0.806764\n",
       "Military - U.S. Air Force                 176  4502.0      3717.0  0.825633\n",
       "Air France                                 70  2874.0      1734.0  0.603340\n",
       "Deutsche Lufthansa                         65   510.0       396.0  0.776471\n",
       "United Air Lines                           44  2460.0      1021.0  0.415041\n",
       "Air Taxi                                   44   176.0       161.0  0.914773\n",
       "China National Aviation Corporation        44   374.0       409.0  1.093583\n",
       "Military - U.S. Army Air Forces            43  1100.0      1070.0  0.972727\n",
       "Pan American World Airways                 41  2812.0      1302.0  0.463016\n",
       "Military - U.S. Navy                       36   851.0       767.0  0.901293"
      ]
     },
     "execution_count": 23,
     "metadata": {},
     "output_type": "execute_result"
    }
   ],
   "source": [
    "o_crash.sort_values('Operator', ascending=False)[:10]"
   ]
  },
  {
   "cell_type": "code",
   "execution_count": 24,
   "metadata": {},
   "outputs": [
    {
     "data": {
      "text/plain": [
       "<matplotlib.axes._subplots.AxesSubplot at 0xd8dc470>"
      ]
     },
     "execution_count": 24,
     "metadata": {},
     "output_type": "execute_result"
    },
    {
     "data": {
      "image/png": "[encoded data removed]",
      "text/plain": [
       "<matplotlib.figure.Figure at 0xd8f49b0>"
      ]
     },
     "metadata": {},
     "output_type": "display_data"
    }
   ],
   "source": [
    "o_crash.sort_values('Operator', ascending=False).iloc[:10, 0].plot(kind='barh')"
   ]
  },
  {
   "cell_type": "markdown",
   "metadata": {},
   "source": [
    "从飞机的归属来看，空难数最多的是俄罗斯国际航空公司(Aeroflot)，空难数达到了179起;其次是美国空军(U.S. Air Force),176起;排在第三的是法国航空(Air France),空难数为70起。"
   ]
  },
  {
   "cell_type": "markdown",
   "metadata": {
    "collapsed": true
   },
   "source": [
    "## 机型"
   ]
  },
  {
   "cell_type": "code",
   "execution_count": 40,
   "metadata": {},
   "outputs": [
    {
     "data": {
      "text/plain": [
       "Type\n",
       "Douglas DC-3                                334\n",
       "de Havilland Canada DHC-6 Twin Otter 300     81\n",
       "Douglas C-47A                                74\n",
       "Douglas C-47                                 61\n",
       "Douglas DC-4                                 40\n",
       "Yakovlev YAK-40                              37\n",
       "Antonov AN-26                                36\n",
       "Junkers JU-52/3m                             32\n",
       "Douglas C-47B                                29\n",
       "De Havilland DH-4                            28\n",
       "Name: Operator, dtype: int64"
      ]
     },
     "execution_count": 40,
     "metadata": {},
     "output_type": "execute_result"
    }
   ],
   "source": [
    "crash.groupby('Type')['Operator'].count().sort_values(ascending=False)[:10]"
   ]
  },
  {
   "cell_type": "code",
   "execution_count": 42,
   "metadata": {},
   "outputs": [
    {
     "data": {
      "text/plain": [
       "0.625"
      ]
     },
     "execution_count": 42,
     "metadata": {},
     "output_type": "execute_result"
    }
   ],
   "source": [
    "(334 + 74 + 62) / 752.0"
   ]
  },
  {
   "cell_type": "code",
   "execution_count": 35,
   "metadata": {
    "collapsed": true
   },
   "outputs": [
    {
     "data": {
      "text/plain": [
       "<matplotlib.axes._subplots.AxesSubplot at 0xe26e320>"
      ]
     },
     "execution_count": 35,
     "metadata": {},
     "output_type": "execute_result"
    },
    {
     "data": {
      "image/png": "[encoded data removed]",
      "text/plain": [
       "<matplotlib.figure.Figure at 0xe0db2b0>"
      ]
     },
     "metadata": {},
     "output_type": "display_data"
    }
   ],
   "source": [
    "t_crash = crash[crash['Type'] == 'Douglas DC-3']\n",
    "t_crash.groupby(t_crash['Date'].apply(lambda a : a[-4:]))['Operator'].count().plot()"
   ]
  },
  {
   "cell_type": "code",
   "execution_count": 38,
   "metadata": {
    "collapsed": true
   },
   "outputs": [
    {
     "data": {
      "text/plain": [
       "<matplotlib.axes._subplots.AxesSubplot at 0xe5a7a58>"
      ]
     },
     "execution_count": 38,
     "metadata": {},
     "output_type": "execute_result"
    },
    {
     "data": {
      "image/png": "[encoded data removed]",
      "text/plain": [
       "<matplotlib.figure.Figure at 0xe5f6d68>"
      ]
     },
     "metadata": {},
     "output_type": "display_data"
    }
   ],
   "source": [
    "t_crash = crash[crash['Type'] == 'Douglas C-47A']\n",
    "t_crash.groupby(t_crash['Date'].apply(lambda a : a[-4:]))['Operator'].count().plot(kind='bar')"
   ]
  },
  {
   "cell_type": "markdown",
   "metadata": {},
   "source": [
    "* 从机型来看，空难数第一的是“道格拉斯DC-3型飞机”，其次是\"德哈维兰加拿大DHC-6\",再之后是\"道格拉斯DC-47A\",和“DC-47”。需要说明的是，DC-47实际上就是DC-3的军用型,二战结束之后，大量的DC-47转为民用，这时它们就又用回了DC-3这个型号。\n",
    "\n",
    "\n",
    "* DC-3及其军用型的总空难数，在空难数前十的机型的空难之和中，占到了62.5%。"
   ]
  },
  {
   "cell_type": "code",
   "execution_count": 45,
   "metadata": {},
   "outputs": [],
   "source": [
    "import re"
   ]
  },
  {
   "cell_type": "code",
   "execution_count": 54,
   "metadata": {},
   "outputs": [
    {
     "name": "stdout",
     "output_type": "stream",
     "text": [
      "False\n"
     ]
    }
   ],
   "source": [
    "print bool(re.search('\\d', 'jkjbk'))"
   ]
  },
  {
   "cell_type": "code",
   "execution_count": 66,
   "metadata": {},
   "outputs": [],
   "source": [
    "def get_manufacturer(name):\n",
    "    name = name.split(' ')\n",
    "    re = name[0]\n",
    "    return re"
   ]
  },
  {
   "cell_type": "code",
   "execution_count": 67,
   "metadata": {},
   "outputs": [
    {
     "data": {
      "text/plain": [
       "'ui'"
      ]
     },
     "execution_count": 67,
     "metadata": {},
     "output_type": "execute_result"
    }
   ],
   "source": [
    "get_manufacturer('ui uiuiiui')"
   ]
  },
  {
   "cell_type": "code",
   "execution_count": 68,
   "metadata": {},
   "outputs": [
    {
     "data": {
      "text/plain": [
       "4"
      ]
     },
     "execution_count": 68,
     "metadata": {},
     "output_type": "execute_result"
    }
   ],
   "source": [
    "len(a)"
   ]
  }
 ],
 "metadata": {
  "kernelspec": {
   "display_name": "Python 2",
   "language": "python",
   "name": "python2"
  },
  "language_info": {
   "codemirror_mode": {
    "name": "ipython",
    "version": 2
   },
   "file_extension": ".py",
   "mimetype": "text/x-python",
   "name": "python",
   "nbconvert_exporter": "python",
   "pygments_lexer": "ipython2",
   "version": "2.7.13"
  },
  "toc": {
   "nav_menu": {},
   "number_sections": true,
   "sideBar": true,
   "skip_h1_title": false,
   "title_cell": "Table of Contents",
   "title_sidebar": "Contents",
   "toc_cell": false,
   "toc_position": {
    "height": "calc(100% - 180px)",
    "left": "10px",
    "top": "150px",
    "width": "223px"
   },
   "toc_section_display": true,
   "toc_window_display": true
  },
  "widgets": {
   "application/vnd.jupyter.widget-state+json": {
    "state": {},
    "version_major": 1,
    "version_minor": 0
   }
  }
 },
 "nbformat": 4,
 "nbformat_minor": 2
}
